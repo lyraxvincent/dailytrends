{
 "cells": [
  {
   "cell_type": "markdown",
   "metadata": {},
   "source": [
    "# Text summarization using NLTK\n",
    "\n",
    "**AIM:** Design a script to produce a summary from scrapped tweets.  \n",
    "**Reference:** [Text summarization with NLTK in Python.](https://stackabuse.com/text-summarization-with-nltk-in-python/)  \n",
    "\n",
    "\n",
    "STEPS:  \n",
    "- define text preprocessing to be done and do the text preprocessing\n",
    "- combine cleaned tweets into one document\n",
    "- extract a summary of the information from the large document"
   ]
  },
  {
   "cell_type": "code",
   "execution_count": 1,
   "metadata": {},
   "outputs": [],
   "source": [
    "# necessary imports\n",
    "##\n",
    "import pandas as pd\n",
    "\n",
    "import nltk\n",
    "import re\n",
    "from textblob import TextBlob\n",
    "\n",
    "import heapq\n",
    "\n",
    "from tqdm import tqdm\n",
    "\n",
    "import language_tool_python"
   ]
  },
  {
   "cell_type": "code",
   "execution_count": 2,
   "metadata": {},
   "outputs": [
    {
     "data": {
      "text/html": [
       "<div>\n",
       "<style scoped>\n",
       "    .dataframe tbody tr th:only-of-type {\n",
       "        vertical-align: middle;\n",
       "    }\n",
       "\n",
       "    .dataframe tbody tr th {\n",
       "        vertical-align: top;\n",
       "    }\n",
       "\n",
       "    .dataframe thead th {\n",
       "        text-align: right;\n",
       "    }\n",
       "</style>\n",
       "<table border=\"1\" class=\"dataframe\">\n",
       "  <thead>\n",
       "    <tr style=\"text-align: right;\">\n",
       "      <th></th>\n",
       "      <th>tweet_id</th>\n",
       "      <th>text</th>\n",
       "      <th>created_at</th>\n",
       "      <th>likes</th>\n",
       "      <th>retweet_count</th>\n",
       "    </tr>\n",
       "  </thead>\n",
       "  <tbody>\n",
       "    <tr>\n",
       "      <th>0</th>\n",
       "      <td>1302966206236897280</td>\n",
       "      <td>SISI CITY, Egypt's New administrative Capital ...</td>\n",
       "      <td>2020-09-07 13:45:26</td>\n",
       "      <td>0</td>\n",
       "      <td>0</td>\n",
       "    </tr>\n",
       "    <tr>\n",
       "      <th>1</th>\n",
       "      <td>1302965798626041856</td>\n",
       "      <td>hey guys!kuna baridi and so i got this for you...</td>\n",
       "      <td>2020-09-07 13:43:48</td>\n",
       "      <td>1</td>\n",
       "      <td>0</td>\n",
       "    </tr>\n",
       "    <tr>\n",
       "      <th>2</th>\n",
       "      <td>1302965764731928578</td>\n",
       "      <td>Before you do any Shit for your boss , think t...</td>\n",
       "      <td>2020-09-07 13:43:40</td>\n",
       "      <td>0</td>\n",
       "      <td>0</td>\n",
       "    </tr>\n",
       "    <tr>\n",
       "      <th>3</th>\n",
       "      <td>1302965378721644549</td>\n",
       "      <td>Core i5 Desktops 4GB ram, 3.0GHZ, 500 GB Hard ...</td>\n",
       "      <td>2020-09-07 13:42:08</td>\n",
       "      <td>1</td>\n",
       "      <td>0</td>\n",
       "    </tr>\n",
       "    <tr>\n",
       "      <th>4</th>\n",
       "      <td>1302964894409650176</td>\n",
       "      <td>Take 1minute to thank Dp Ruto who faciliated c...</td>\n",
       "      <td>2020-09-07 13:40:13</td>\n",
       "      <td>8</td>\n",
       "      <td>1</td>\n",
       "    </tr>\n",
       "  </tbody>\n",
       "</table>\n",
       "</div>"
      ],
      "text/plain": [
       "              tweet_id                                               text  \\\n",
       "0  1302966206236897280  SISI CITY, Egypt's New administrative Capital ...   \n",
       "1  1302965798626041856  hey guys!kuna baridi and so i got this for you...   \n",
       "2  1302965764731928578  Before you do any Shit for your boss , think t...   \n",
       "3  1302965378721644549  Core i5 Desktops 4GB ram, 3.0GHZ, 500 GB Hard ...   \n",
       "4  1302964894409650176  Take 1minute to thank Dp Ruto who faciliated c...   \n",
       "\n",
       "            created_at  likes  retweet_count  \n",
       "0  2020-09-07 13:45:26      0              0  \n",
       "1  2020-09-07 13:43:48      1              0  \n",
       "2  2020-09-07 13:43:40      0              0  \n",
       "3  2020-09-07 13:42:08      1              0  \n",
       "4  2020-09-07 13:40:13      8              1  "
      ]
     },
     "metadata": {},
     "output_type": "display_data"
    }
   ],
   "source": [
    "# read in a csv file\n",
    "##\n",
    "df = pd.read_csv(\"#OmwengaMurderDppExposed.csv\")\n",
    "\n",
    "display(df.head())"
   ]
  },
  {
   "cell_type": "code",
   "execution_count": 3,
   "metadata": {},
   "outputs": [
    {
     "name": "stdout",
     "output_type": "stream",
     "text": [
      "SISI CITY, Egypt's New administrative Capital City. https://t.co/YLCEaP8gul via @YouTube #mutahikagwe Guardian Ange… https://t.co/3jCCOSVdaj \n",
      "\n",
      "hey guys!kuna baridi and so i got this for you,to make you warm and comfortable whenever you are in town and workin… https://t.co/DkFz6Bt1Oi \n",
      "\n",
      "Before you do any Shit for your boss , think twice........\n",
      "https://t.co/wiUnEHfgpw\n",
      "#OmwengaMurderDppExposed \n",
      "\n",
      "Core i5 Desktops 4GB ram, 3.0GHZ, 500 GB Hard disk, 19 inch monitor, keyboard, mouse, cables  @15K\n",
      "\n",
      "contact  .☎0718… https://t.co/4GRIgHn9sd \n",
      "\n",
      "Take 1minute to thank Dp Ruto who faciliated construction of house to mukamo and Mia hau. From Grass to grace 🙏… https://t.co/U3glPzDkgs \n",
      "\n",
      "Two wrongs don't make a right. Look at this @citizentvkenya nes article by Hassan Mugambi. It sheds alot of light o… https://t.co/DE36KEqCY9 \n",
      "\n",
      "I don’t think think this is an uphill task for the DPP when there’s evidence of someone clearly taking the gun from… https://t.co/KoRAO6aYuF \n",
      "\n",
      "How to Win Friends and Influence People by Dale Carnegie [pdf] https://t.co/ARwZnGFhZd #OmwengaMurderDppExposed \n",
      "\n",
      "Does CCTV footage really work in Kenya? We should not complain too much now considering before Omwenga there was Ba… https://t.co/5B1mZOMsjo \n",
      "\n",
      "#OmwengaMurderDppExposed\n",
      "Yes/No https://t.co/3AZFJsDbge \n",
      "\n",
      "Are you having Monday blues? come &amp; enjoy hot video &amp; pics of my friends and I #Whasapp 0796245691 #MikeAndTerry… https://t.co/3eyAsKQ7fV \n",
      "\n",
      "Are you having Monday blues? come &amp; enjoy hot video &amp; pics of my friends and I #Whasapp 0796245691 #MikeAndTerry… https://t.co/VImTSpoDU4 \n",
      "\n",
      "Are you having Monday blues? come &amp; enjoy hot video &amp; pics of my friends and I #Whasapp 0796245691 #MikeAndTerry… https://t.co/PHGj4r3I7O \n",
      "\n",
      "It's definately dead end for \n",
      "Cherang’any MP Joshua Kutuny and Zedekiah Kiprop of Buzeki. The politics in the Rift… https://t.co/HGb4vQAeqg \n",
      "\n",
      "“We have finalised the revised protocols that are going to guide us while conducting burials moving forward…hopeful… https://t.co/mlmEi0Hyan \n",
      "\n",
      "Only legends from Western Kenya can understand-Luos,Luhyias andKisii's #BillyNaMbaruk #mikeandterry… https://t.co/Nn3zloWhL6 \n",
      "\n",
      "Jubilee government paid youths to run this hashtag to portray DPP Noordin Haji corrupt! #OmwengaMurderDppExposed \n",
      "\n",
      "#OmwengaMurderDppExposed\n",
      " #mikeandterry\n",
      "Check this out 🙏🙏 https://t.co/0w3MZMU1ue \n",
      "\n",
      "While there is no set rule for identifying the best Tog rating for you, as a general guide we recommend a 13.5 Tog… https://t.co/6xLfby8zbI \n",
      "\n",
      "@DCI_Kenya should establish who has paid bloggers for this #OmwengaMurderDppExposed\n",
      "They are in cohorts.. Building a native.. \n",
      "\n",
      "Let's continue guiding the Visually Impaired Persons to register as Visually Impaired Persons by calling *678# or… https://t.co/XiD85RslQp \n",
      "\n",
      "In Criminal matters there's no room for 'maybe' the prosecution MUST prove beyond reasonable doubt that Robert Bodo… https://t.co/pzEB0DH8gi \n",
      "\n",
      "Ruto Reveals How Tuju, Murathe Will Finally Get Out of Jubilee Leadership Positions #dennisokari… https://t.co/MWZQHA1QcX \n",
      "\n",
      "For the first time the number of males and females infected over the last 24 hours has been equal; 51 males and 51… https://t.co/ZZyMjiSrD2 \n",
      "\n",
      "Uhuru, Raila and Kalonzo Shocked after DP Ruto Addressed Mammoth Crowds ... https://t.co/Duayqjseqa via @YouTube… https://t.co/9XSGvjcBiL \n",
      "\n",
      "Panic as Raila Locks Mudavadi and Wetangula out of Luhya Meeting with Op... https://t.co/Uy4YfnTJiR via @YouTube… https://t.co/8qJWJY97Oc \n",
      "\n",
      "#OmwengaMurderDppExposed what the DCI doesn't know is that the Matter is now not just a case but public plea that j… https://t.co/obHX5Agd7S \n",
      "\n",
      "102 more people test positive for Covid-19 from a sample size of 2,668 people tested in the last 24 hours.… https://t.co/V4qaWKvJd4 \n",
      "\n",
      "I think that's how the court will rule on Wednesday. Robert Bodo is allover the crime scene his goose is cooked. Fo… https://t.co/32Ny7rWaNF \n",
      "\n",
      "The investigative cartels want to arm twist Obure so that they can get a share in his business. They are the real m… https://t.co/qYXsoIHgnH \n",
      "\n"
     ]
    }
   ],
   "source": [
    "# a closer look at the texts\n",
    "##\n",
    "for tweet in df.text[:30]:\n",
    "    print(tweet, \"\\n\")"
   ]
  },
  {
   "cell_type": "markdown",
   "metadata": {},
   "source": [
    "### Text preprocessing steps\n",
    "- remove links\n",
    "- remove hashtags\n",
    "- remove special characters (preserving fullstops since they mark end of sentence and we're doing summarization based off of sentence weights, also preserve single quotes)\n",
    "- remove numbers\n",
    "- remove emojis and emoticons\n",
    "- correct spelling\n",
    "- stripping the text\n",
    "- put a fullstop at the end of each preprocessed tweet if there is not one\n",
    "- make the first letter of preprocessed tweets a capital letter if it isn't the case"
   ]
  },
  {
   "cell_type": "code",
   "execution_count": 4,
   "metadata": {},
   "outputs": [],
   "source": [
    "# function to do the preprocessing\n",
    "##\n",
    "\n",
    "punctuation = '!\"#$%&\\()*+,-/:;<=>?@[\\\\]^_`{|}~…' # removed fullstop and single quote\n",
    "emoj = re.compile(\"[\"\n",
    "        u\"\\U0001F600-\\U0001F64F\"  # emoticons\n",
    "        u\"\\U0001F300-\\U0001F5FF\"  # symbols & pictographs\n",
    "        u\"\\U0001F680-\\U0001F6FF\"  # transport & map symbols\n",
    "        u\"\\U0001F1E0-\\U0001F1FF\"  # flags (iOS)\n",
    "        u\"\\U00002500-\\U00002BEF\"  # chinese char\n",
    "        u\"\\U00002702-\\U000027B0\"\n",
    "        u\"\\U00002702-\\U000027B0\"\n",
    "        u\"\\U000024C2-\\U0001F251\"\n",
    "        u\"\\U0001f926-\\U0001f937\"\n",
    "        u\"\\U00010000-\\U0010ffff\"\n",
    "        u\"\\u2640-\\u2642\" \n",
    "        u\"\\u2600-\\u2B55\"\n",
    "        u\"\\u200d\"\n",
    "        u\"\\u23cf\"\n",
    "        u\"\\u23e9\"\n",
    "        u\"\\u231a\"\n",
    "        u\"\\ufe0f\"  # dingbats\n",
    "        u\"\\u3030\"\n",
    "                      \"]+\", re.UNICODE)\n",
    "\n",
    "def text_process(text):\n",
    "    text = re.sub(r'https?://\\S+|www\\.\\S+', repl=r'', string=text)\n",
    "    text = text.split()\n",
    "    text = ' '.join([word for word in text if not word.startswith(\"#\")])\n",
    "    text = ''.join([c for c in text if c not in punctuation])\n",
    "    text = ''.join([i for i in text if not i.isdigit()])\n",
    "    text = re.sub(emoj, '', text)\n",
    "    text = str(TextBlob(text).correct())\n",
    "    text = text.strip()\n",
    "    if not text.endswith(\".\"):\n",
    "        text = text + \".\"\n",
    "    if not text[0].isupper():\n",
    "        text = text[0].upper() + text[1:]\n",
    "    return text\n",
    "\n",
    "# text processing function preserving digits\n",
    "def text_processdig(text):\n",
    "    text = re.sub(r'https?://\\S+|www\\.\\S+', repl=r'', string=text)\n",
    "    text = text.split()\n",
    "    text = ' '.join([word for word in text if not word.startswith(\"#\")])\n",
    "    text = ''.join([c for c in text if c not in punctuation])\n",
    "    text = re.sub(emoj, '', text)\n",
    "    text = str(TextBlob(text).correct())\n",
    "    text = text.strip()\n",
    "    if not text.endswith(\".\"):\n",
    "        text = text + \".\"\n",
    "    if not text[0].isupper():\n",
    "        text = text[0].upper() + text[1:]\n",
    "    return text"
   ]
  },
  {
   "cell_type": "code",
   "execution_count": 5,
   "metadata": {},
   "outputs": [
    {
     "name": "stdout",
     "output_type": "stream",
     "text": [
      "Original text:  SISI CITY, Egypt's New administrative Capital City. https://t.co/YLCEaP8gul via @YouTube #mutahikagwe Guardian Ange… https://t.co/3jCCOSVdaj\n",
      "\n",
      "Preprocessed text:  SISI CITY Egypt's New administrative Capital City. via YouTube Guardian One.\n"
     ]
    }
   ],
   "source": [
    "# example\n",
    "print(\"Original text: \", df.text[0])\n",
    "print(\"\\nPreprocessed text: \", text_process(df.text[0]))"
   ]
  },
  {
   "cell_type": "markdown",
   "metadata": {},
   "source": [
    "Designing a document of preprocessed texts joined together"
   ]
  },
  {
   "cell_type": "code",
   "execution_count": 6,
   "metadata": {},
   "outputs": [
    {
     "name": "stderr",
     "output_type": "stream",
     "text": [
      "Designing preprocessed document:: 100%|██████████| 193/193 [01:16<00:00,  2.52it/s]\n",
      "Designing document preserving numbers:: 100%|██████████| 193/193 [01:16<00:00,  2.53it/s]\n"
     ]
    }
   ],
   "source": [
    "doc_without_numbers = \"\"\n",
    "\n",
    "for tweet in tqdm(df.text, desc=\"Designing preprocessed document:\"):\n",
    "    tweet = text_process(tweet)\n",
    "    doc_without_numbers += tweet\n",
    "    \n",
    "doc_with_numbers = \"\"\n",
    "\n",
    "for tweet in tqdm(df.text, desc=\"Designing document preserving numbers:\"):\n",
    "    tweet = text_processdig(tweet)\n",
    "    doc_with_numbers += tweet"
   ]
  },
  {
   "cell_type": "markdown",
   "metadata": {},
   "source": [
    "Convert document to recognizable sentences"
   ]
  },
  {
   "cell_type": "code",
   "execution_count": 7,
   "metadata": {},
   "outputs": [],
   "source": [
    "sentence_list = nltk.sent_tokenize(doc_with_numbers)"
   ]
  },
  {
   "cell_type": "code",
   "execution_count": 8,
   "metadata": {},
   "outputs": [
    {
     "data": {
      "text/plain": [
       "[\"SISI CITY Egypt's New administrative Capital City.\",\n",
       " 'via YouTube Guardian One.Hey guyskuna bride and so i got this for youth make you warm and comfortable whenever you are in town and working.Before you do any Hit for your boss  think twice........More in Desktop 4GB ram 3.0GHZ 500 of Hard disk 19 inch monitor keyboard mouse tables 15K contact .0718.Take minute to thank Up Auto who facilitated construction of house to mukamo and Via had.',\n",
       " \"From Grass to grace.Two wrongs don't make a right.\",\n",
       " 'Took at this citizentvkenya new article by Vassar Mugambi.',\n",
       " \"It sheds clot of light o.I don’t think think this is an uphill task for the DPP when there’s evidence of someone clearly taking the gun from.Now to In Friends and Influence People by Pale Carnegie of.Does CCTV forage really work in Sonya He should not complain too much now considering before Omwenga there was A.YesNo.Are you having Monday blue come amp enjoy hot video amp pick of my friends and I 0796245691.Are you having Monday blue come amp enjoy hot video amp pick of my friends and I 0796245691.Are you having Monday blue come amp enjoy hot video amp pick of my friends and I 0796245691.It's definitely dead end for Cherang’any of Joshua Mutiny and Ezekiah Prop of Buzeki.\"]"
      ]
     },
     "execution_count": 8,
     "metadata": {},
     "output_type": "execute_result"
    }
   ],
   "source": [
    "# previewing the first 5 sentences\n",
    "##\n",
    "sentence_list[:5]"
   ]
  },
  {
   "cell_type": "markdown",
   "metadata": {},
   "source": [
    "Find weighted frequency of occurence of each word(using preprocessed document)"
   ]
  },
  {
   "cell_type": "code",
   "execution_count": 9,
   "metadata": {},
   "outputs": [],
   "source": [
    "stopwords = nltk.corpus.stopwords.words('english')\n",
    "\n",
    "word_frequencies = {}\n",
    "for word in nltk.word_tokenize(doc_without_numbers):\n",
    "    if word not in stopwords:\n",
    "        if word not in word_frequencies.keys():\n",
    "            word_frequencies[word] = 1\n",
    "        else:\n",
    "            word_frequencies[word] += 1\n",
    "            \n",
    "# to find the weighted frequency, we can simply divide the number of occurances of\n",
    "# all the words by the frequency of the most occurring word\n",
    "\n",
    "maximum_frequncy = max(word_frequencies.values())\n",
    "\n",
    "for word in word_frequencies.keys():\n",
    "    word_frequencies[word] = (word_frequencies[word]/maximum_frequncy)"
   ]
  },
  {
   "cell_type": "markdown",
   "metadata": {},
   "source": [
    "Calculating sentence scores"
   ]
  },
  {
   "cell_type": "code",
   "execution_count": 10,
   "metadata": {},
   "outputs": [],
   "source": [
    "sentence_scores = {}\n",
    "for sent in sentence_list:\n",
    "    for word in nltk.word_tokenize(sent.lower()):\n",
    "        if word in word_frequencies.keys():\n",
    "            if len(sent.split(' ')) > 3 & len(sent.split(' ')) < 20:\n",
    "                if sent not in sentence_scores.keys():\n",
    "                    sentence_scores[sent] = word_frequencies[word]\n",
    "                else:\n",
    "                    sentence_scores[sent] += word_frequencies[word]"
   ]
  },
  {
   "cell_type": "markdown",
   "metadata": {},
   "source": [
    "### Getting summary from sentences with higher score than others\n",
    "Taking care of shorter and extremely longer summaries  \n",
    "- summaries below 1500 characters  \n",
    "- summaries over  2500 characters"
   ]
  },
  {
   "cell_type": "code",
   "execution_count": 11,
   "metadata": {},
   "outputs": [],
   "source": [
    "n = 5\n",
    "\n",
    "summary_sentences = heapq.nlargest(n, sentence_scores, key=sentence_scores.get)\n",
    "summary = ' '.join(summary_sentences)\n",
    "\n",
    "if len(summary) < 1500 and len(' '.join(df.text)) > 1500:\n",
    "    while len(summary) < 2500:\n",
    "        if n+3 < len(sentence_list):\n",
    "            n = n+3\n",
    "        summary_sentences = heapq.nlargest(n, sentence_scores, key=sentence_scores.get)\n",
    "        \n",
    "summary = ' '.join(summary_sentences)"
   ]
  },
  {
   "cell_type": "code",
   "execution_count": 12,
   "metadata": {},
   "outputs": [
    {
     "name": "stdout",
     "output_type": "stream",
     "text": [
      "It is very clear.The DPP failed to investigate this case thanks citizentvkenya for doing this for them now they claim they didn't s.The DPP saying the Arraigning Chris Sure an innocent man alongside the real suspect Robert Do raises more quest.The forage captures some of the events at the Briton group office of businessman Chris Sure on August 21 the da.When doing investigations before you even arrange a suspect in Court you must exhaust all evidence so as to make s.That's the Motive behind the DCI ignoring the CCTV forage The investigations they were doing were based on what.Why is ODPP behaving in this manner  Why does it look like they don't intend to do the right thing.Based on the CCTV forage then Do must answer to whether he had the permission or not otherwise he is the main s.Chris Sure through his lawyer Danstan Mary has challenged the murder charge against him and sought to be made a.SuperGirlKE kemaruth LionOfMara MercyNatra Sure’s lawyers argued the “intended prosecution and criminal p.He are living in denial even on the things that are so evident.The DPP is just ignorant in this matter because the CCTV portages are all over showing the killer stealing the gun.Kemaruth LionOfMara MercyNatra JmekaOfficial Sure however denied any knowledge of his aide using the gun t.Is per the CCTV forage obtained by citizentvkenya  Robert is seen accepting his boss's office and stealing the g.Duke told the Police that the shooting of Omwenga was accidental but the Topsy by the government pathologist Or O.The Pp lying to our faces that they didn't see the CCTV forage shows how our investigation are always done with n.Omwenga's family deserves justice want to Robert Do trotting in jail because that's the man behind Omwenga's de.The ODPP has now claimed that the CCTV forage that citizentvkenya tired a few days ago was never forwarded to t.The DPP should exercise his mandate judiciously he cannot do it ignorant just because he has been mandate by th.LionOfMara MercyNatra JmekaOfficial Police confirmed the forearm Duke allegedly used in the shooting belonged.It's unfortunate the DPP have failed to do their work even after citizentvkenya tired CCTV forage of how Robert B.According to Sure's lawyer Sure was at Kempinski on the fateful day.LionOfMara MercyNatra kemaruth JmekaOfficial In his statement Duke told police officers that the shooting.DPP must look at the Video and understand whether Do had the permission or not That will help determine who is r.MercyNatra kemaruth JmekaOfficial Omwenga was reported to have been shot on the said night.Court shocked as the DPP says they've not reviewed CCTV forage yet they had days to conduct Investigations. The DPP needs t.The Pp isn't serious how can he deny seeing the CCTV forage and the forage was put in all media outlets.To the ODPP now claims to have not seen the CCTV forage capturing Robert Do His is a joke.Robert Do is seen in the act forage accepting Sure's office.Of the DPP didn't see the CCTV forage what kind of investigations do this guns do To the DPP recommends charges b.Was the DPP not seen the CCTV forage that captures Do stealing a gun from Sure's office.Seems there are some games being played here here by ODPP . If.It should be clear that Chris didn't give his bodyguard permission to take his gone took the gun in his own will.The DPP approving the charges against Chris Sure is laughable considering the fact that he was nowhere near the my.Kemaruth JmekaOfficial He later returns a few minutes to midnight where he is captured loading the gun before r.Chris Sure denied any knowledge of his aide using the gun that that shot Even Omwenga.Seems the DPP is playing some games they claim they never saw this forage tired by citizentvkenya how Robert Do.NotwenK Surprisingly the forage has been circulating all over the media but the ODPP claims it hasn't seen it.It is very unfortunate that the DPP want to charge Chris Sure who is innocent in the murder charge and the CCTV fo.JmekaOfficial After picking the gun Duke is seen tucking it around his waist and leaving the place.Chris Sure is a businessman and is a close associate to the behaved and is set to be ar.From the CCTV forage it clearly shows that the incident wasn't accidental as Do claimed earlier. Buds.The DCI should explain why they want throw away evidence that could make the case against Do strong in this case.OmwengaMurderDppExposed.PedroMbugua the DPP says they haven't seen this forage they don't have it they haven't heard of it.Robert Do should be charged for murder case after CCTV forage shows how he stole the gun from his boss safe used.The murder weapon belongs to Chris Sure but in the night of the killing Robert Do his security guard had taken t.Am not getting the reason why you all crucifying the boss when the truth is clearBodo stole the gun from his office.ItsKiprotich1 His is the evidence which could have been used by the DPP to prosecute the culprit of the murder be.After watching the CCTV forage it's enough for us not to shift focus. It sheds clot of light o.I don’t think think this is an uphill task for the DPP when there’s evidence of someone clearly taking the gun from.Now to In Friends and Influence People by Pale Carnegie of.Does CCTV forage really work in Sonya He should not complain too much now considering before Omwenga there was A.YesNo.Are you having Monday blue come amp enjoy hot video amp pick of my friends and I 0796245691.Are you having Monday blue come amp enjoy hot video amp pick of my friends and I 0796245691.Are you having Monday blue come amp enjoy hot video amp pick of my friends and I 0796245691.It's definitely dead end for Cherang’any of Joshua Mutiny and Ezekiah Prop of Buzeki.\n"
     ]
    }
   ],
   "source": [
    "print(summary)"
   ]
  },
  {
   "cell_type": "code",
   "execution_count": 13,
   "metadata": {},
   "outputs": [
    {
     "data": {
      "text/plain": [
       "61"
      ]
     },
     "execution_count": 13,
     "metadata": {},
     "output_type": "execute_result"
    }
   ],
   "source": [
    "len(sentence_list)"
   ]
  },
  {
   "cell_type": "markdown",
   "metadata": {},
   "source": [
    "Correcting errors in sentences"
   ]
  },
  {
   "cell_type": "code",
   "execution_count": 14,
   "metadata": {},
   "outputs": [
    {
     "name": "stdout",
     "output_type": "stream",
     "text": [
      "Length of matches: 2\n",
      "A sentence with an error in the Hitchhiker’s Guide to the Galaxy\n"
     ]
    }
   ],
   "source": [
    "# example of how the tool makes correction\n",
    "##\n",
    "tool = language_tool_python.LanguageTool('en-US')\n",
    "text = 'A sentence with a error in the Hitchhiker’s Guide tot he Galaxy'\n",
    "matches = tool.check(text)\n",
    "\n",
    "print(f\"Length of matches: {len(matches)}\")\n",
    "\n",
    "text = tool.correct(text)\n",
    "print(text)"
   ]
  },
  {
   "cell_type": "code",
   "execution_count": 15,
   "metadata": {},
   "outputs": [],
   "source": [
    "# applying to our summary text\n",
    "##\n",
    "matches = tool.check(summary)"
   ]
  },
  {
   "cell_type": "code",
   "execution_count": 16,
   "metadata": {},
   "outputs": [
    {
     "data": {
      "text/plain": [
       "129"
      ]
     },
     "execution_count": 16,
     "metadata": {},
     "output_type": "execute_result"
    }
   ],
   "source": [
    "len(matches)"
   ]
  },
  {
   "cell_type": "code",
   "execution_count": 17,
   "metadata": {},
   "outputs": [],
   "source": [
    "summary = tool.correct(summary)"
   ]
  },
  {
   "cell_type": "code",
   "execution_count": 18,
   "metadata": {},
   "outputs": [
    {
     "name": "stdout",
     "output_type": "stream",
     "text": [
      "It is very clear. The DSP failed to investigate this case thanks citizentvkenya for doing this for them now they claim they didn't s. The DSP saying the Arraigning Chris Sure an innocent man alongside the real suspect Robert Do raises more quest. The forage captures some events at the Briton group office of businessman Chris Sure on August 21 the the. When doing investigations before you even arrange a suspect in Court you must exhaust all evidence to make s. That's the Motive behind the DCI ignoring the CCTV forage The investigations they were doing were based on what. Why is Opp behaving in this manner Why does it look like they don't intend to do the right thing. Based on the CCTV forage then Do must answer to whether he had the permission or not otherwise he is the main s. Chris Sure through his lawyer Feinstein Mary has challenged the murder charge against him and sought to be made a. SuperGirlKE earth LionOfMara Mercenary Sure’s lawyers argued the “intended prosecution and criminal p. He is living in denial even on the things that are so evident. The DSP is just ignorant in this matter because the CCTV portages are all over showing the killer stealing the gun. Kemaruth LionOfMara Mercenary JmekaOfficial Sure however denied any knowledge of his aide using the gun t. Is per the CCTV forage obtained by citizentvkenya Robert is seen accepting his boss's office and stealing the g. Duke told the Police that the shooting of Omega was accidental but the Topsy by the government pathologist Or O. The Pp lying to our faces that they didn't see the CCTV forage shows how our investigation are always done with n. Omwenga's family deserves justice want to Robert Do trotting in jail because that's the man behind Omega's DE. The Opp has now claimed that the CCTV forage that citizentvkenya tired a few days ago was never forwarded to t. The DSP should exercise his mandate judiciously he cannot do it ignorant just because he has been mandated by TH. LionOfMara Mercenary JmekaOfficial Police confirmed the forearm Duke allegedly used in the shooting belonged. It's unfortunate the DSP have failed to do their work even after citizentvkenya tired CCTV forage of how Robert B. According to Sure's lawyer Sure was at Kempis on the fateful day. LionOfMara Mercenary earth JmekaOfficial In his statement Duke told police officers that the shooting.DSP must look at the Video and understand whether Do had the permission or not That will help determine who is r. MercyNatra earth JmekaOfficial Omega was reported to have been shot on the said night. Court shocked as the DSP says they've not reviewed CCTV forage, yet they had days to conduct Investigations. The DSP needs t. The Pp isn't serious how can he deny seeing the CCTV forage and the forage was put in all media outlets. To the Opp now claims to have not seen the CCTV forage capturing Robert Do His is a joke. Robert Do is seen in the act forage accepting Sure's office. Of the DSP didn't see the CCTV forage what kind of investigations do these guns do To the DSP recommends charges b. Was the DSP not seen the CCTV forage that captures Do stealing a gun from Sure's office. Seems there are some games being played here by Opp. If. It should be clear that Chris didn't give his bodyguard permission to take his gone took the gun in his own will. The DSP approving the charges against Chris Sure is laughable considering the fact that he was nowhere near the. Kemaruth JmekaOfficial He later returns a few minutes to midnight where he is captured loading the gun before r. Chris Sure denied any knowledge of his aide using the gun that that shot Even Omega. Seems the DSP is playing some games they claim they never saw this forage tired by citizentvkenya how Robert Do. NotwenK Surprisingly the forage has been circulating all over the media but the Opp claims it hasn't seen it. It is very unfortunate that the DSP want to charge Chris Sure who is innocent in the murder charge and the CCTV FO. JmekaOfficial After picking the gun Duke is seen tucking it around his waist and leaving the place. Chris Sure is a businessman and is a close associate to the behaved and is set to be AR. From the CCTV forage it clearly shows that the incident wasn't accidental as Do claimed earlier. Buds. The DCI should explain why they want throw away evidence that could make the case against Do strong in this case. OmwengaMurderDppExposed. PedroMbugua the DSP says they haven't seen this forage they don't have it they haven't heard of it. Robert Do should be charged for murder case after CCTV forage shows how he stole the gun from his boss safe used. The murder weapon belongs to Chris Sure but in the night of the killing Robert Do his security guard had taken t. Am not getting the reason why you all crucifying the boss when the truth is cleared stole the gun from his office. ItsKiprotich1 His is the evidence which could have been used by the DSP to prosecute the culprit of the murder be. After watching the CCTV forage it's enough for us not to shift focus. It sheds clot of light o. I don’t think this is an uphill task for the DSP when there’s evidence of someone clearly taking the gun from. Now to In Friends and Influence People by Pale Carnegie of. Does CCTV forage really work in Sonya He should not complain too much now considering before Omega there was A. YesNo. Are you having Monday blue come amp enjoy hot video amp pick of my friends and I 0796245691? Are you having Monday blue come amp enjoy hot video amp pick of my friends and I 0796245691?Are you having Monday blue come amp enjoy hot video amp pick of my friends and I 0796245691? It's definitely dead end for Che rang’any of Joshua Mutiny and Hezekiah Prop of Suzuki.\n"
     ]
    }
   ],
   "source": [
    "print(summary)"
   ]
  }
 ],
 "metadata": {
  "kernelspec": {
   "display_name": "Python 3",
   "language": "python",
   "name": "python3"
  },
  "language_info": {
   "codemirror_mode": {
    "name": "ipython",
    "version": 3
   },
   "file_extension": ".py",
   "mimetype": "text/x-python",
   "name": "python",
   "nbconvert_exporter": "python",
   "pygments_lexer": "ipython3",
   "version": "3.8.5"
  }
 },
 "nbformat": 4,
 "nbformat_minor": 4
}
